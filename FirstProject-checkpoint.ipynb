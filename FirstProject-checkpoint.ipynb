{
 "cells": [
  {
   "cell_type": "code",
   "execution_count": 145,
   "metadata": {},
   "outputs": [],
   "source": [
    "import pandas_datareader.data as web\n",
    "from datetime import datetime\n",
    "import matplotlib.pyplot as plt\n",
    "from pandas.plotting import autocorrelation_plot\n",
    "from statsmodels.stats.stattools import jarque_bera  \n",
    "from statsmodels.iolib.table import SimpleTable\n",
    "import numpy as np\n",
    "import statsmodels.api as st\n",
    "from sklearn.metrics import r2_score\n",
    "import pandas as pd"
   ]
  },
  {
   "cell_type": "code",
   "execution_count": 4,
   "metadata": {},
   "outputs": [],
   "source": [
    "start = '2016'\n",
    "end = datetime(2021, 10, 1)"
   ]
  },
  {
   "cell_type": "code",
   "execution_count": 9,
   "metadata": {},
   "outputs": [],
   "source": [
    "moex = web.DataReader('GAZP', 'moex', start=start, end=end)"
   ]
  },
  {
   "cell_type": "code",
   "execution_count": 14,
   "metadata": {},
   "outputs": [
    {
     "data": {
      "text/html": [
       "<div>\n",
       "<style scoped>\n",
       "    .dataframe tbody tr th:only-of-type {\n",
       "        vertical-align: middle;\n",
       "    }\n",
       "\n",
       "    .dataframe tbody tr th {\n",
       "        vertical-align: top;\n",
       "    }\n",
       "\n",
       "    .dataframe thead th {\n",
       "        text-align: right;\n",
       "    }\n",
       "</style>\n",
       "<table border=\"1\" class=\"dataframe\">\n",
       "  <thead>\n",
       "    <tr style=\"text-align: right;\">\n",
       "      <th></th>\n",
       "      <th>ADMITTEDQUOTE</th>\n",
       "      <th>ADMITTEDVALUE</th>\n",
       "      <th>BEICLOSE</th>\n",
       "      <th>BID</th>\n",
       "      <th>BOARDID</th>\n",
       "      <th>BOARDNAME</th>\n",
       "      <th>BUYBACKDATE</th>\n",
       "      <th>CBRCLOSE</th>\n",
       "      <th>CLOSE</th>\n",
       "      <th>CLOSEAUCTIONPRICE</th>\n",
       "      <th>...</th>\n",
       "      <th>TRENDCLSPR</th>\n",
       "      <th>TRENDWAP</th>\n",
       "      <th>TRENDWAPPR</th>\n",
       "      <th>TYPE</th>\n",
       "      <th>VALUE</th>\n",
       "      <th>VOLUME</th>\n",
       "      <th>WAPRICE</th>\n",
       "      <th>WAVAL</th>\n",
       "      <th>YIELDLASTCOUPON</th>\n",
       "      <th>YIELDTOOFFER</th>\n",
       "    </tr>\n",
       "    <tr>\n",
       "      <th>TRADEDATE</th>\n",
       "      <th></th>\n",
       "      <th></th>\n",
       "      <th></th>\n",
       "      <th></th>\n",
       "      <th></th>\n",
       "      <th></th>\n",
       "      <th></th>\n",
       "      <th></th>\n",
       "      <th></th>\n",
       "      <th></th>\n",
       "      <th></th>\n",
       "      <th></th>\n",
       "      <th></th>\n",
       "      <th></th>\n",
       "      <th></th>\n",
       "      <th></th>\n",
       "      <th></th>\n",
       "      <th></th>\n",
       "      <th></th>\n",
       "      <th></th>\n",
       "      <th></th>\n",
       "    </tr>\n",
       "  </thead>\n",
       "  <tbody>\n",
       "    <tr>\n",
       "      <th>2016-01-04</th>\n",
       "      <td>134.91</td>\n",
       "      <td>1.677416e+09</td>\n",
       "      <td>NaN</td>\n",
       "      <td>NaN</td>\n",
       "      <td>TQBR</td>\n",
       "      <td>NaN</td>\n",
       "      <td>NaN</td>\n",
       "      <td>NaN</td>\n",
       "      <td>134.91</td>\n",
       "      <td>NaN</td>\n",
       "      <td>...</td>\n",
       "      <td>NaN</td>\n",
       "      <td>NaN</td>\n",
       "      <td>NaN</td>\n",
       "      <td>NaN</td>\n",
       "      <td>1.677416e+09</td>\n",
       "      <td>12409380.0</td>\n",
       "      <td>135.17</td>\n",
       "      <td>NaN</td>\n",
       "      <td>NaN</td>\n",
       "      <td>NaN</td>\n",
       "    </tr>\n",
       "    <tr>\n",
       "      <th>2016-01-05</th>\n",
       "      <td>136.45</td>\n",
       "      <td>1.942157e+09</td>\n",
       "      <td>NaN</td>\n",
       "      <td>NaN</td>\n",
       "      <td>TQBR</td>\n",
       "      <td>NaN</td>\n",
       "      <td>NaN</td>\n",
       "      <td>NaN</td>\n",
       "      <td>136.45</td>\n",
       "      <td>NaN</td>\n",
       "      <td>...</td>\n",
       "      <td>NaN</td>\n",
       "      <td>NaN</td>\n",
       "      <td>NaN</td>\n",
       "      <td>NaN</td>\n",
       "      <td>1.942157e+09</td>\n",
       "      <td>14285210.0</td>\n",
       "      <td>135.96</td>\n",
       "      <td>NaN</td>\n",
       "      <td>NaN</td>\n",
       "      <td>NaN</td>\n",
       "    </tr>\n",
       "    <tr>\n",
       "      <th>2016-01-06</th>\n",
       "      <td>135.94</td>\n",
       "      <td>1.413184e+09</td>\n",
       "      <td>NaN</td>\n",
       "      <td>NaN</td>\n",
       "      <td>TQBR</td>\n",
       "      <td>NaN</td>\n",
       "      <td>NaN</td>\n",
       "      <td>NaN</td>\n",
       "      <td>135.94</td>\n",
       "      <td>NaN</td>\n",
       "      <td>...</td>\n",
       "      <td>NaN</td>\n",
       "      <td>NaN</td>\n",
       "      <td>NaN</td>\n",
       "      <td>NaN</td>\n",
       "      <td>1.413184e+09</td>\n",
       "      <td>10393910.0</td>\n",
       "      <td>135.96</td>\n",
       "      <td>NaN</td>\n",
       "      <td>NaN</td>\n",
       "      <td>NaN</td>\n",
       "    </tr>\n",
       "    <tr>\n",
       "      <th>2016-01-11</th>\n",
       "      <td>131.38</td>\n",
       "      <td>4.489337e+09</td>\n",
       "      <td>NaN</td>\n",
       "      <td>NaN</td>\n",
       "      <td>TQBR</td>\n",
       "      <td>NaN</td>\n",
       "      <td>NaN</td>\n",
       "      <td>NaN</td>\n",
       "      <td>131.38</td>\n",
       "      <td>NaN</td>\n",
       "      <td>...</td>\n",
       "      <td>NaN</td>\n",
       "      <td>NaN</td>\n",
       "      <td>NaN</td>\n",
       "      <td>NaN</td>\n",
       "      <td>4.489337e+09</td>\n",
       "      <td>34008830.0</td>\n",
       "      <td>132.00</td>\n",
       "      <td>NaN</td>\n",
       "      <td>NaN</td>\n",
       "      <td>NaN</td>\n",
       "    </tr>\n",
       "    <tr>\n",
       "      <th>2016-01-12</th>\n",
       "      <td>133.54</td>\n",
       "      <td>5.292858e+09</td>\n",
       "      <td>NaN</td>\n",
       "      <td>NaN</td>\n",
       "      <td>TQBR</td>\n",
       "      <td>NaN</td>\n",
       "      <td>NaN</td>\n",
       "      <td>NaN</td>\n",
       "      <td>133.54</td>\n",
       "      <td>NaN</td>\n",
       "      <td>...</td>\n",
       "      <td>NaN</td>\n",
       "      <td>NaN</td>\n",
       "      <td>NaN</td>\n",
       "      <td>NaN</td>\n",
       "      <td>5.292858e+09</td>\n",
       "      <td>39697670.0</td>\n",
       "      <td>133.33</td>\n",
       "      <td>NaN</td>\n",
       "      <td>NaN</td>\n",
       "      <td>NaN</td>\n",
       "    </tr>\n",
       "  </tbody>\n",
       "</table>\n",
       "<p>5 rows × 65 columns</p>\n",
       "</div>"
      ],
      "text/plain": [
       "            ADMITTEDQUOTE  ADMITTEDVALUE  BEICLOSE  BID BOARDID BOARDNAME  \\\n",
       "TRADEDATE                                                                   \n",
       "2016-01-04         134.91   1.677416e+09       NaN  NaN    TQBR       NaN   \n",
       "2016-01-05         136.45   1.942157e+09       NaN  NaN    TQBR       NaN   \n",
       "2016-01-06         135.94   1.413184e+09       NaN  NaN    TQBR       NaN   \n",
       "2016-01-11         131.38   4.489337e+09       NaN  NaN    TQBR       NaN   \n",
       "2016-01-12         133.54   5.292858e+09       NaN  NaN    TQBR       NaN   \n",
       "\n",
       "            BUYBACKDATE  CBRCLOSE   CLOSE  CLOSEAUCTIONPRICE  ...  TRENDCLSPR  \\\n",
       "TRADEDATE                                                     ...               \n",
       "2016-01-04          NaN       NaN  134.91                NaN  ...         NaN   \n",
       "2016-01-05          NaN       NaN  136.45                NaN  ...         NaN   \n",
       "2016-01-06          NaN       NaN  135.94                NaN  ...         NaN   \n",
       "2016-01-11          NaN       NaN  131.38                NaN  ...         NaN   \n",
       "2016-01-12          NaN       NaN  133.54                NaN  ...         NaN   \n",
       "\n",
       "            TRENDWAP  TRENDWAPPR  TYPE         VALUE      VOLUME  WAPRICE  \\\n",
       "TRADEDATE                                                                   \n",
       "2016-01-04       NaN         NaN   NaN  1.677416e+09  12409380.0   135.17   \n",
       "2016-01-05       NaN         NaN   NaN  1.942157e+09  14285210.0   135.96   \n",
       "2016-01-06       NaN         NaN   NaN  1.413184e+09  10393910.0   135.96   \n",
       "2016-01-11       NaN         NaN   NaN  4.489337e+09  34008830.0   132.00   \n",
       "2016-01-12       NaN         NaN   NaN  5.292858e+09  39697670.0   133.33   \n",
       "\n",
       "           WAVAL  YIELDLASTCOUPON  YIELDTOOFFER  \n",
       "TRADEDATE                                        \n",
       "2016-01-04   NaN              NaN           NaN  \n",
       "2016-01-05   NaN              NaN           NaN  \n",
       "2016-01-06   NaN              NaN           NaN  \n",
       "2016-01-11   NaN              NaN           NaN  \n",
       "2016-01-12   NaN              NaN           NaN  \n",
       "\n",
       "[5 rows x 65 columns]"
      ]
     },
     "execution_count": 14,
     "metadata": {},
     "output_type": "execute_result"
    }
   ],
   "source": [
    "moex.head()"
   ]
  },
  {
   "cell_type": "code",
   "execution_count": 15,
   "metadata": {},
   "outputs": [],
   "source": [
    "ticker = 'AAPL'\n",
    "apple_data = web.get_data_yahoo(ticker, start=start, end=end)"
   ]
  },
  {
   "cell_type": "code",
   "execution_count": 16,
   "metadata": {},
   "outputs": [
    {
     "data": {
      "text/html": [
       "<div>\n",
       "<style scoped>\n",
       "    .dataframe tbody tr th:only-of-type {\n",
       "        vertical-align: middle;\n",
       "    }\n",
       "\n",
       "    .dataframe tbody tr th {\n",
       "        vertical-align: top;\n",
       "    }\n",
       "\n",
       "    .dataframe thead th {\n",
       "        text-align: right;\n",
       "    }\n",
       "</style>\n",
       "<table border=\"1\" class=\"dataframe\">\n",
       "  <thead>\n",
       "    <tr style=\"text-align: right;\">\n",
       "      <th></th>\n",
       "      <th>High</th>\n",
       "      <th>Low</th>\n",
       "      <th>Open</th>\n",
       "      <th>Close</th>\n",
       "      <th>Volume</th>\n",
       "      <th>Adj Close</th>\n",
       "    </tr>\n",
       "    <tr>\n",
       "      <th>Date</th>\n",
       "      <th></th>\n",
       "      <th></th>\n",
       "      <th></th>\n",
       "      <th></th>\n",
       "      <th></th>\n",
       "      <th></th>\n",
       "    </tr>\n",
       "  </thead>\n",
       "  <tbody>\n",
       "    <tr>\n",
       "      <th>2016-01-04</th>\n",
       "      <td>26.342501</td>\n",
       "      <td>25.500000</td>\n",
       "      <td>25.652500</td>\n",
       "      <td>26.337500</td>\n",
       "      <td>270597600.0</td>\n",
       "      <td>24.286831</td>\n",
       "    </tr>\n",
       "    <tr>\n",
       "      <th>2016-01-05</th>\n",
       "      <td>26.462500</td>\n",
       "      <td>25.602501</td>\n",
       "      <td>26.437500</td>\n",
       "      <td>25.677500</td>\n",
       "      <td>223164000.0</td>\n",
       "      <td>23.678217</td>\n",
       "    </tr>\n",
       "    <tr>\n",
       "      <th>2016-01-06</th>\n",
       "      <td>25.592501</td>\n",
       "      <td>24.967501</td>\n",
       "      <td>25.139999</td>\n",
       "      <td>25.174999</td>\n",
       "      <td>273829600.0</td>\n",
       "      <td>23.214844</td>\n",
       "    </tr>\n",
       "    <tr>\n",
       "      <th>2016-01-07</th>\n",
       "      <td>25.032499</td>\n",
       "      <td>24.107500</td>\n",
       "      <td>24.670000</td>\n",
       "      <td>24.112499</td>\n",
       "      <td>324377600.0</td>\n",
       "      <td>22.235067</td>\n",
       "    </tr>\n",
       "    <tr>\n",
       "      <th>2016-01-08</th>\n",
       "      <td>24.777500</td>\n",
       "      <td>24.190001</td>\n",
       "      <td>24.637501</td>\n",
       "      <td>24.240000</td>\n",
       "      <td>283192000.0</td>\n",
       "      <td>22.352644</td>\n",
       "    </tr>\n",
       "  </tbody>\n",
       "</table>\n",
       "</div>"
      ],
      "text/plain": [
       "                 High        Low       Open      Close       Volume  Adj Close\n",
       "Date                                                                          \n",
       "2016-01-04  26.342501  25.500000  25.652500  26.337500  270597600.0  24.286831\n",
       "2016-01-05  26.462500  25.602501  26.437500  25.677500  223164000.0  23.678217\n",
       "2016-01-06  25.592501  24.967501  25.139999  25.174999  273829600.0  23.214844\n",
       "2016-01-07  25.032499  24.107500  24.670000  24.112499  324377600.0  22.235067\n",
       "2016-01-08  24.777500  24.190001  24.637501  24.240000  283192000.0  22.352644"
      ]
     },
     "execution_count": 16,
     "metadata": {},
     "output_type": "execute_result"
    }
   ],
   "source": [
    "apple_data.head()"
   ]
  },
  {
   "cell_type": "code",
   "execution_count": 41,
   "metadata": {},
   "outputs": [
    {
     "data": {
      "text/plain": [
       "'ADJ CLOSE'"
      ]
     },
     "execution_count": 41,
     "metadata": {},
     "output_type": "execute_result"
    }
   ],
   "source": [
    "need_columns = list(apple_data.columns)\n",
    "need_columns = [x.upper() for x in need_columns]\n",
    "need_columns.pop()"
   ]
  },
  {
   "cell_type": "code",
   "execution_count": 43,
   "metadata": {},
   "outputs": [
    {
     "data": {
      "text/plain": [
       "['HIGH', 'LOW', 'OPEN', 'CLOSE', 'VOLUME']"
      ]
     },
     "execution_count": 43,
     "metadata": {},
     "output_type": "execute_result"
    }
   ],
   "source": [
    "need_columns"
   ]
  },
  {
   "cell_type": "code",
   "execution_count": 44,
   "metadata": {},
   "outputs": [
    {
     "data": {
      "text/html": [
       "<div>\n",
       "<style scoped>\n",
       "    .dataframe tbody tr th:only-of-type {\n",
       "        vertical-align: middle;\n",
       "    }\n",
       "\n",
       "    .dataframe tbody tr th {\n",
       "        vertical-align: top;\n",
       "    }\n",
       "\n",
       "    .dataframe thead th {\n",
       "        text-align: right;\n",
       "    }\n",
       "</style>\n",
       "<table border=\"1\" class=\"dataframe\">\n",
       "  <thead>\n",
       "    <tr style=\"text-align: right;\">\n",
       "      <th></th>\n",
       "      <th>HIGH</th>\n",
       "      <th>LOW</th>\n",
       "      <th>OPEN</th>\n",
       "      <th>CLOSE</th>\n",
       "      <th>VOLUME</th>\n",
       "    </tr>\n",
       "    <tr>\n",
       "      <th>TRADEDATE</th>\n",
       "      <th></th>\n",
       "      <th></th>\n",
       "      <th></th>\n",
       "      <th></th>\n",
       "      <th></th>\n",
       "    </tr>\n",
       "  </thead>\n",
       "  <tbody>\n",
       "    <tr>\n",
       "      <th>2016-01-04</th>\n",
       "      <td>136.65</td>\n",
       "      <td>134.42</td>\n",
       "      <td>135.89</td>\n",
       "      <td>134.91</td>\n",
       "      <td>12409380.0</td>\n",
       "    </tr>\n",
       "    <tr>\n",
       "      <th>2016-01-05</th>\n",
       "      <td>137.28</td>\n",
       "      <td>134.61</td>\n",
       "      <td>134.66</td>\n",
       "      <td>136.45</td>\n",
       "      <td>14285210.0</td>\n",
       "    </tr>\n",
       "    <tr>\n",
       "      <th>2016-01-06</th>\n",
       "      <td>136.93</td>\n",
       "      <td>135.30</td>\n",
       "      <td>136.31</td>\n",
       "      <td>135.94</td>\n",
       "      <td>10393910.0</td>\n",
       "    </tr>\n",
       "    <tr>\n",
       "      <th>2016-01-11</th>\n",
       "      <td>133.65</td>\n",
       "      <td>131.10</td>\n",
       "      <td>133.00</td>\n",
       "      <td>131.38</td>\n",
       "      <td>34008830.0</td>\n",
       "    </tr>\n",
       "    <tr>\n",
       "      <th>2016-01-12</th>\n",
       "      <td>135.25</td>\n",
       "      <td>130.10</td>\n",
       "      <td>130.40</td>\n",
       "      <td>133.54</td>\n",
       "      <td>39697670.0</td>\n",
       "    </tr>\n",
       "    <tr>\n",
       "      <th>...</th>\n",
       "      <td>...</td>\n",
       "      <td>...</td>\n",
       "      <td>...</td>\n",
       "      <td>...</td>\n",
       "      <td>...</td>\n",
       "    </tr>\n",
       "    <tr>\n",
       "      <th>2021-09-27</th>\n",
       "      <td>355.19</td>\n",
       "      <td>347.00</td>\n",
       "      <td>347.95</td>\n",
       "      <td>355.19</td>\n",
       "      <td>81133200.0</td>\n",
       "    </tr>\n",
       "    <tr>\n",
       "      <th>2021-09-28</th>\n",
       "      <td>361.80</td>\n",
       "      <td>353.68</td>\n",
       "      <td>359.00</td>\n",
       "      <td>354.07</td>\n",
       "      <td>94125920.0</td>\n",
       "    </tr>\n",
       "    <tr>\n",
       "      <th>2021-09-29</th>\n",
       "      <td>360.94</td>\n",
       "      <td>352.30</td>\n",
       "      <td>354.05</td>\n",
       "      <td>360.88</td>\n",
       "      <td>60264350.0</td>\n",
       "    </tr>\n",
       "    <tr>\n",
       "      <th>2021-09-30</th>\n",
       "      <td>364.53</td>\n",
       "      <td>359.53</td>\n",
       "      <td>363.25</td>\n",
       "      <td>360.80</td>\n",
       "      <td>70092520.0</td>\n",
       "    </tr>\n",
       "    <tr>\n",
       "      <th>2021-10-01</th>\n",
       "      <td>363.78</td>\n",
       "      <td>356.00</td>\n",
       "      <td>358.45</td>\n",
       "      <td>363.25</td>\n",
       "      <td>47659550.0</td>\n",
       "    </tr>\n",
       "  </tbody>\n",
       "</table>\n",
       "<p>1452 rows × 5 columns</p>\n",
       "</div>"
      ],
      "text/plain": [
       "              HIGH     LOW    OPEN   CLOSE      VOLUME\n",
       "TRADEDATE                                             \n",
       "2016-01-04  136.65  134.42  135.89  134.91  12409380.0\n",
       "2016-01-05  137.28  134.61  134.66  136.45  14285210.0\n",
       "2016-01-06  136.93  135.30  136.31  135.94  10393910.0\n",
       "2016-01-11  133.65  131.10  133.00  131.38  34008830.0\n",
       "2016-01-12  135.25  130.10  130.40  133.54  39697670.0\n",
       "...            ...     ...     ...     ...         ...\n",
       "2021-09-27  355.19  347.00  347.95  355.19  81133200.0\n",
       "2021-09-28  361.80  353.68  359.00  354.07  94125920.0\n",
       "2021-09-29  360.94  352.30  354.05  360.88  60264350.0\n",
       "2021-09-30  364.53  359.53  363.25  360.80  70092520.0\n",
       "2021-10-01  363.78  356.00  358.45  363.25  47659550.0\n",
       "\n",
       "[1452 rows x 5 columns]"
      ]
     },
     "execution_count": 44,
     "metadata": {},
     "output_type": "execute_result"
    }
   ],
   "source": [
    "moex[need_columns]"
   ]
  },
  {
   "cell_type": "code",
   "execution_count": 24,
   "metadata": {},
   "outputs": [],
   "source": [
    "#gazprom_data = web.get_data_yahoo(ticker, start=start, end=end)"
   ]
  },
  {
   "cell_type": "code",
   "execution_count": null,
   "metadata": {},
   "outputs": [],
   "source": []
  },
  {
   "cell_type": "code",
   "execution_count": 52,
   "metadata": {},
   "outputs": [
    {
     "data": {
      "image/png": "[encoded data removed]",
      "text/plain": [
       "<Figure size 864x576 with 1 Axes>"
      ]
     },
     "metadata": {
      "needs_background": "light"
     },
     "output_type": "display_data"
    }
   ],
   "source": [
    "moex['WAPRICE'].plot(grid=True, figsize=(12,8))\n",
    " \n",
    "# Show the plot\n",
    "plt.show()"
   ]
  },
  {
   "cell_type": "code",
   "execution_count": 55,
   "metadata": {},
   "outputs": [],
   "source": [
    "wap_gasp = moex['WAPRICE']"
   ]
  },
  {
   "cell_type": "code",
   "execution_count": 56,
   "metadata": {},
   "outputs": [
    {
     "data": {
      "text/plain": [
       "TRADEDATE\n",
       "2016-01-04    135.17\n",
       "2016-01-05    135.96\n",
       "2016-01-06    135.96\n",
       "2016-01-11    132.00\n",
       "2016-01-12    133.33\n",
       "Name: WAPRICE, dtype: float64"
      ]
     },
     "execution_count": 56,
     "metadata": {},
     "output_type": "execute_result"
    }
   ],
   "source": [
    "wap_gasp.head()"
   ]
  },
  {
   "cell_type": "code",
   "execution_count": 96,
   "metadata": {},
   "outputs": [],
   "source": [
    "jb_test = list(list(jarque_bera(wap_gasp)))"
   ]
  },
  {
   "cell_type": "code",
   "execution_count": 95,
   "metadata": {},
   "outputs": [
    {
     "name": "stdout",
     "output_type": "stream",
     "text": [
      "=============================================================================\n",
      "        JB               p-value                skew             kurtosis    \n",
      "-----------------------------------------------------------------------------\n",
      "287.0234039147966 4.7169334762617476e-63 1.0660731241872439 3.445130171974497\n",
      "-----------------------------------------------------------------------------\n"
     ]
    }
   ],
   "source": [
    "row =  [\"JB\", \"p-value\", \"skew\", \"kurtosis\"]\n",
    "#a = np.vstack([jb_test])\n",
    "itog = SimpleTable([jb_test], row)\n",
    "print(itog)"
   ]
  },
  {
   "cell_type": "code",
   "execution_count": 103,
   "metadata": {},
   "outputs": [],
   "source": [
    "d_fuller_test = st.tsa.adfuller(wap_gasp)"
   ]
  },
  {
   "cell_type": "code",
   "execution_count": 112,
   "metadata": {},
   "outputs": [
    {
     "name": "stdout",
     "output_type": "stream",
     "text": [
      "adf: 1.085622777736993\n",
      "p-value: 0.99509203161034\n",
      "Critical values: {'1%': -3.434908816804013, '5%': -2.863553406963303, '10%': -2.5678419239852994}\n",
      "есть единичные корни, ряд не стационарен\n"
     ]
    }
   ],
   "source": [
    "print(f'adf: {d_fuller_test[0]}')\n",
    "print(f'p-value: {d_fuller_test[1]}')\n",
    "print(f'Critical values: {d_fuller_test[4]}')\n",
    "if (d_fuller_test[0]> d_fuller_test[4]['5%']): \n",
    "    print('есть единичные корни, ряд не стационарен')\n",
    "else:\n",
    "    print('единичных корней нет, ряд стационарен')"
   ]
  },
  {
   "cell_type": "code",
   "execution_count": 114,
   "metadata": {},
   "outputs": [],
   "source": [
    "wap_gasp_diff = wap_gasp.diff(periods=1).dropna()"
   ]
  },
  {
   "cell_type": "code",
   "execution_count": 115,
   "metadata": {},
   "outputs": [
    {
     "name": "stdout",
     "output_type": "stream",
     "text": [
      "adf: -9.31080573897621\n",
      "p-value: 1.0503469215531983e-15\n",
      "Critical values: {'1%': -3.434908816804013, '5%': -2.863553406963303, '10%': -2.5678419239852994}\n",
      "единичных корней нет, ряд стационарен\n"
     ]
    }
   ],
   "source": [
    "d_fuller_test_diff = st.tsa.adfuller(wap_gasp_diff)\n",
    "print(f'adf: {d_fuller_test_diff[0]}')\n",
    "print(f'p-value: {d_fuller_test_diff[1]}')\n",
    "print(f'Critical values: {d_fuller_test_diff[4]}')\n",
    "if (d_fuller_test_diff[0]> d_fuller_test_diff[4]['5%']): \n",
    "    print('есть единичные корни, ряд не стационарен')\n",
    "else:\n",
    "    print('единичных корней нет, ряд стационарен')"
   ]
  },
  {
   "cell_type": "code",
   "execution_count": 117,
   "metadata": {},
   "outputs": [
    {
     "data": {
      "text/plain": [
       "<AxesSubplot:xlabel='TRADEDATE'>"
      ]
     },
     "execution_count": 117,
     "metadata": {},
     "output_type": "execute_result"
    },
    {
     "data": {
      "image/png": "[encoded data removed]",
      "text/plain": [
       "<Figure size 864x576 with 1 Axes>"
      ]
     },
     "metadata": {
      "needs_background": "light"
     },
     "output_type": "display_data"
    }
   ],
   "source": [
    "wap_gasp_diff.plot(grid=True, figsize=(12,8))"
   ]
  },
  {
   "cell_type": "code",
   "execution_count": 125,
   "metadata": {},
   "outputs": [
    {
     "data": {
      "text/plain": [
       "<Figure size 864x576 with 0 Axes>"
      ]
     },
     "metadata": {},
     "output_type": "display_data"
    },
    {
     "data": {
      "image/png": "[encoded data removed]",
      "text/plain": [
       "<Figure size 432x288 with 1 Axes>"
      ]
     },
     "metadata": {
      "needs_background": "light"
     },
     "output_type": "display_data"
    },
    {
     "data": {
      "image/png": "[encoded data removed]",
      "text/plain": [
       "<Figure size 432x288 with 1 Axes>"
      ]
     },
     "metadata": {
      "needs_background": "light"
     },
     "output_type": "display_data"
    }
   ],
   "source": [
    "ig = plt.figure(figsize=(12,8))\n",
    "fig = st.graphics.tsa.plot_acf(wap_gasp_diff.values.squeeze(), lags=25)\n",
    "\n",
    "fig = st.graphics.tsa.plot_pacf(wap_gasp_diff, lags=25)"
   ]
  },
  {
   "cell_type": "code",
   "execution_count": 177,
   "metadata": {},
   "outputs": [],
   "source": [
    "gasp_data_model = wap_gasp[:'2021-09-01']"
   ]
  },
  {
   "cell_type": "code",
   "execution_count": 184,
   "metadata": {},
   "outputs": [
    {
     "data": {
      "text/plain": [
       "TRADEDATE\n",
       "2016-01-04    135.17\n",
       "2016-01-05    135.96\n",
       "2016-01-06    135.96\n",
       "2016-01-11    132.00\n",
       "2016-01-12    133.33\n",
       "               ...  \n",
       "2021-08-26    294.48\n",
       "2021-08-27    297.28\n",
       "2021-08-30    303.21\n",
       "2021-08-31    305.82\n",
       "2021-09-01    309.96\n",
       "Name: WAPRICE, Length: 1430, dtype: float64"
      ]
     },
     "execution_count": 184,
     "metadata": {},
     "output_type": "execute_result"
    }
   ],
   "source": [
    "gasp_data_model\n"
   ]
  },
  {
   "cell_type": "code",
   "execution_count": 233,
   "metadata": {},
   "outputs": [
    {
     "name": "stderr",
     "output_type": "stream",
     "text": [
      "E:\\Program Files (x86)\\Anaconda\\lib\\site-packages\\statsmodels\\tsa\\arima_model.py:472: FutureWarning: \n",
      "statsmodels.tsa.arima_model.ARMA and statsmodels.tsa.arima_model.ARIMA have\n",
      "been deprecated in favor of statsmodels.tsa.arima.model.ARIMA (note the .\n",
      "between arima and model) and\n",
      "statsmodels.tsa.SARIMAX. These will be removed after the 0.12 release.\n",
      "\n",
      "statsmodels.tsa.arima.model.ARIMA makes use of the statespace framework and\n",
      "is both well tested and maintained.\n",
      "\n",
      "To silence this warning and continue using ARMA and ARIMA until they are\n",
      "removed, use:\n",
      "\n",
      "import warnings\n",
      "warnings.filterwarnings('ignore', 'statsmodels.tsa.arima_model.ARMA',\n",
      "                        FutureWarning)\n",
      "warnings.filterwarnings('ignore', 'statsmodels.tsa.arima_model.ARIMA',\n",
      "                        FutureWarning)\n",
      "\n",
      "  warnings.warn(ARIMA_DEPRECATION_WARN, FutureWarning)\n",
      "E:\\Program Files (x86)\\Anaconda\\lib\\site-packages\\statsmodels\\tsa\\base\\tsa_model.py:581: ValueWarning: A date index has been provided, but it has no associated frequency information and so will be ignored when e.g. forecasting.\n",
      "  warnings.warn('A date index has been provided, but it has no'\n",
      "E:\\Program Files (x86)\\Anaconda\\lib\\site-packages\\statsmodels\\tsa\\base\\tsa_model.py:581: ValueWarning: A date index has been provided, but it has no associated frequency information and so will be ignored when e.g. forecasting.\n",
      "  warnings.warn('A date index has been provided, but it has no'\n",
      "E:\\Program Files (x86)\\Anaconda\\lib\\site-packages\\statsmodels\\tsa\\arima_model.py:472: FutureWarning: \n",
      "statsmodels.tsa.arima_model.ARMA and statsmodels.tsa.arima_model.ARIMA have\n",
      "been deprecated in favor of statsmodels.tsa.arima.model.ARIMA (note the .\n",
      "between arima and model) and\n",
      "statsmodels.tsa.SARIMAX. These will be removed after the 0.12 release.\n",
      "\n",
      "statsmodels.tsa.arima.model.ARIMA makes use of the statespace framework and\n",
      "is both well tested and maintained.\n",
      "\n",
      "To silence this warning and continue using ARMA and ARIMA until they are\n",
      "removed, use:\n",
      "\n",
      "import warnings\n",
      "warnings.filterwarnings('ignore', 'statsmodels.tsa.arima_model.ARMA',\n",
      "                        FutureWarning)\n",
      "warnings.filterwarnings('ignore', 'statsmodels.tsa.arima_model.ARIMA',\n",
      "                        FutureWarning)\n",
      "\n",
      "  warnings.warn(ARIMA_DEPRECATION_WARN, FutureWarning)\n"
     ]
    }
   ],
   "source": [
    "model= st.tsa.ARIMA(gasp_data_model, order=(1,1,1)).fit(full_output=False, disp=0)"
   ]
  },
  {
   "cell_type": "code",
   "execution_count": 234,
   "metadata": {},
   "outputs": [
    {
     "data": {
      "text/html": [
       "<table class=\"simpletable\">\n",
       "<caption>ARIMA Model Results</caption>\n",
       "<tr>\n",
       "  <th>Dep. Variable:</th>     <td>D.WAPRICE</td>    <th>  No. Observations:  </th>   <td>1429</td>   \n",
       "</tr>\n",
       "<tr>\n",
       "  <th>Model:</th>          <td>ARIMA(1, 1, 1)</td>  <th>  Log Likelihood     </th> <td>-3348.879</td>\n",
       "</tr>\n",
       "<tr>\n",
       "  <th>Method:</th>             <td>css-mle</td>     <th>  S.D. of innovations</th>   <td>2.521</td>  \n",
       "</tr>\n",
       "<tr>\n",
       "  <th>Date:</th>          <td>Sat, 16 Oct 2021</td> <th>  AIC                </th> <td>6705.757</td> \n",
       "</tr>\n",
       "<tr>\n",
       "  <th>Time:</th>              <td>04:25:43</td>     <th>  BIC                </th> <td>6726.816</td> \n",
       "</tr>\n",
       "<tr>\n",
       "  <th>Sample:</th>                <td>1</td>        <th>  HQIC               </th> <td>6713.621</td> \n",
       "</tr>\n",
       "<tr>\n",
       "  <th></th>                       <td> </td>        <th>                     </th>     <td> </td>    \n",
       "</tr>\n",
       "</table>\n",
       "<table class=\"simpletable\">\n",
       "<tr>\n",
       "         <td></td>            <th>coef</th>     <th>std err</th>      <th>z</th>      <th>P>|z|</th>  <th>[0.025</th>    <th>0.975]</th>  \n",
       "</tr>\n",
       "<tr>\n",
       "  <th>const</th>           <td>    0.1230</td> <td>    0.081</td> <td>    1.515</td> <td> 0.130</td> <td>   -0.036</td> <td>    0.282</td>\n",
       "</tr>\n",
       "<tr>\n",
       "  <th>ar.L1.D.WAPRICE</th> <td>    0.0556</td> <td>    0.153</td> <td>    0.362</td> <td> 0.717</td> <td>   -0.245</td> <td>    0.356</td>\n",
       "</tr>\n",
       "<tr>\n",
       "  <th>ma.L1.D.WAPRICE</th> <td>    0.1497</td> <td>    0.153</td> <td>    0.979</td> <td> 0.328</td> <td>   -0.150</td> <td>    0.449</td>\n",
       "</tr>\n",
       "</table>\n",
       "<table class=\"simpletable\">\n",
       "<caption>Roots</caption>\n",
       "<tr>\n",
       "    <td></td>   <th>            Real</th>  <th>         Imaginary</th> <th>         Modulus</th>  <th>        Frequency</th>\n",
       "</tr>\n",
       "<tr>\n",
       "  <th>AR.1</th> <td>          17.9852</td> <td>          +0.0000j</td> <td>          17.9852</td> <td>           0.0000</td>\n",
       "</tr>\n",
       "<tr>\n",
       "  <th>MA.1</th> <td>          -6.6795</td> <td>          +0.0000j</td> <td>           6.6795</td> <td>           0.5000</td>\n",
       "</tr>\n",
       "</table>"
      ],
      "text/plain": [
       "<class 'statsmodels.iolib.summary.Summary'>\n",
       "\"\"\"\n",
       "                             ARIMA Model Results                              \n",
       "==============================================================================\n",
       "Dep. Variable:              D.WAPRICE   No. Observations:                 1429\n",
       "Model:                 ARIMA(1, 1, 1)   Log Likelihood               -3348.879\n",
       "Method:                       css-mle   S.D. of innovations              2.521\n",
       "Date:                Sat, 16 Oct 2021   AIC                           6705.757\n",
       "Time:                        04:25:43   BIC                           6726.816\n",
       "Sample:                             1   HQIC                          6713.621\n",
       "                                                                              \n",
       "===================================================================================\n",
       "                      coef    std err          z      P>|z|      [0.025      0.975]\n",
       "-----------------------------------------------------------------------------------\n",
       "const               0.1230      0.081      1.515      0.130      -0.036       0.282\n",
       "ar.L1.D.WAPRICE     0.0556      0.153      0.362      0.717      -0.245       0.356\n",
       "ma.L1.D.WAPRICE     0.1497      0.153      0.979      0.328      -0.150       0.449\n",
       "                                    Roots                                    \n",
       "=============================================================================\n",
       "                  Real          Imaginary           Modulus         Frequency\n",
       "-----------------------------------------------------------------------------\n",
       "AR.1           17.9852           +0.0000j           17.9852            0.0000\n",
       "MA.1           -6.6795           +0.0000j            6.6795            0.5000\n",
       "-----------------------------------------------------------------------------\n",
       "\"\"\""
      ]
     },
     "execution_count": 234,
     "metadata": {},
     "output_type": "execute_result"
    }
   ],
   "source": [
    "model.summary()"
   ]
  },
  {
   "cell_type": "code",
   "execution_count": 235,
   "metadata": {},
   "outputs": [
    {
     "name": "stderr",
     "output_type": "stream",
     "text": [
      "E:\\Program Files (x86)\\Anaconda\\lib\\site-packages\\statsmodels\\tsa\\stattools.py:652: FutureWarning: The default number of lags is changing from 40 tomin(int(10 * np.log10(nobs)), nobs - 1) after 0.12is released. Set the number of lags to an integer to  silence this warning.\n",
      "  warnings.warn(\n",
      "E:\\Program Files (x86)\\Anaconda\\lib\\site-packages\\statsmodels\\tsa\\stattools.py:662: FutureWarning: fft=True will become the default after the release of the 0.12 release of statsmodels. To suppress this warning, explicitly set fft=False.\n",
      "  warnings.warn(\n"
     ]
    },
    {
     "data": {
      "text/html": [
       "<div>\n",
       "<style scoped>\n",
       "    .dataframe tbody tr th:only-of-type {\n",
       "        vertical-align: middle;\n",
       "    }\n",
       "\n",
       "    .dataframe tbody tr th {\n",
       "        vertical-align: top;\n",
       "    }\n",
       "\n",
       "    .dataframe thead th {\n",
       "        text-align: right;\n",
       "    }\n",
       "</style>\n",
       "<table border=\"1\" class=\"dataframe\">\n",
       "  <thead>\n",
       "    <tr style=\"text-align: right;\">\n",
       "      <th></th>\n",
       "      <th>Q-stat</th>\n",
       "      <th>p-value</th>\n",
       "    </tr>\n",
       "  </thead>\n",
       "  <tbody>\n",
       "    <tr>\n",
       "      <th>0</th>\n",
       "      <td>0.000025</td>\n",
       "      <td>0.996011</td>\n",
       "    </tr>\n",
       "    <tr>\n",
       "      <th>1</th>\n",
       "      <td>0.011167</td>\n",
       "      <td>0.994432</td>\n",
       "    </tr>\n",
       "    <tr>\n",
       "      <th>2</th>\n",
       "      <td>1.639607</td>\n",
       "      <td>0.650443</td>\n",
       "    </tr>\n",
       "    <tr>\n",
       "      <th>3</th>\n",
       "      <td>3.115645</td>\n",
       "      <td>0.538662</td>\n",
       "    </tr>\n",
       "    <tr>\n",
       "      <th>4</th>\n",
       "      <td>9.863116</td>\n",
       "      <td>0.079208</td>\n",
       "    </tr>\n",
       "    <tr>\n",
       "      <th>5</th>\n",
       "      <td>18.758596</td>\n",
       "      <td>0.004591</td>\n",
       "    </tr>\n",
       "    <tr>\n",
       "      <th>6</th>\n",
       "      <td>20.116158</td>\n",
       "      <td>0.005324</td>\n",
       "    </tr>\n",
       "    <tr>\n",
       "      <th>7</th>\n",
       "      <td>20.169758</td>\n",
       "      <td>0.009713</td>\n",
       "    </tr>\n",
       "    <tr>\n",
       "      <th>8</th>\n",
       "      <td>20.609582</td>\n",
       "      <td>0.014501</td>\n",
       "    </tr>\n",
       "    <tr>\n",
       "      <th>9</th>\n",
       "      <td>20.683088</td>\n",
       "      <td>0.023415</td>\n",
       "    </tr>\n",
       "    <tr>\n",
       "      <th>10</th>\n",
       "      <td>34.359196</td>\n",
       "      <td>0.000316</td>\n",
       "    </tr>\n",
       "    <tr>\n",
       "      <th>11</th>\n",
       "      <td>34.947693</td>\n",
       "      <td>0.000477</td>\n",
       "    </tr>\n",
       "    <tr>\n",
       "      <th>12</th>\n",
       "      <td>34.947764</td>\n",
       "      <td>0.000862</td>\n",
       "    </tr>\n",
       "    <tr>\n",
       "      <th>13</th>\n",
       "      <td>39.191155</td>\n",
       "      <td>0.000341</td>\n",
       "    </tr>\n",
       "    <tr>\n",
       "      <th>14</th>\n",
       "      <td>39.270196</td>\n",
       "      <td>0.000584</td>\n",
       "    </tr>\n",
       "    <tr>\n",
       "      <th>15</th>\n",
       "      <td>41.697612</td>\n",
       "      <td>0.000438</td>\n",
       "    </tr>\n",
       "    <tr>\n",
       "      <th>16</th>\n",
       "      <td>44.481869</td>\n",
       "      <td>0.000291</td>\n",
       "    </tr>\n",
       "    <tr>\n",
       "      <th>17</th>\n",
       "      <td>45.409622</td>\n",
       "      <td>0.000362</td>\n",
       "    </tr>\n",
       "    <tr>\n",
       "      <th>18</th>\n",
       "      <td>46.668806</td>\n",
       "      <td>0.000398</td>\n",
       "    </tr>\n",
       "    <tr>\n",
       "      <th>19</th>\n",
       "      <td>46.831395</td>\n",
       "      <td>0.000619</td>\n",
       "    </tr>\n",
       "    <tr>\n",
       "      <th>20</th>\n",
       "      <td>50.265777</td>\n",
       "      <td>0.000335</td>\n",
       "    </tr>\n",
       "    <tr>\n",
       "      <th>21</th>\n",
       "      <td>51.018926</td>\n",
       "      <td>0.000426</td>\n",
       "    </tr>\n",
       "    <tr>\n",
       "      <th>22</th>\n",
       "      <td>51.030491</td>\n",
       "      <td>0.000674</td>\n",
       "    </tr>\n",
       "    <tr>\n",
       "      <th>23</th>\n",
       "      <td>51.150621</td>\n",
       "      <td>0.001008</td>\n",
       "    </tr>\n",
       "    <tr>\n",
       "      <th>24</th>\n",
       "      <td>51.688767</td>\n",
       "      <td>0.001312</td>\n",
       "    </tr>\n",
       "    <tr>\n",
       "      <th>25</th>\n",
       "      <td>51.712393</td>\n",
       "      <td>0.001952</td>\n",
       "    </tr>\n",
       "    <tr>\n",
       "      <th>26</th>\n",
       "      <td>51.926779</td>\n",
       "      <td>0.002706</td>\n",
       "    </tr>\n",
       "    <tr>\n",
       "      <th>27</th>\n",
       "      <td>52.286610</td>\n",
       "      <td>0.003554</td>\n",
       "    </tr>\n",
       "    <tr>\n",
       "      <th>28</th>\n",
       "      <td>52.513017</td>\n",
       "      <td>0.004776</td>\n",
       "    </tr>\n",
       "    <tr>\n",
       "      <th>29</th>\n",
       "      <td>52.948462</td>\n",
       "      <td>0.006008</td>\n",
       "    </tr>\n",
       "    <tr>\n",
       "      <th>30</th>\n",
       "      <td>54.875281</td>\n",
       "      <td>0.005163</td>\n",
       "    </tr>\n",
       "    <tr>\n",
       "      <th>31</th>\n",
       "      <td>55.350174</td>\n",
       "      <td>0.006371</td>\n",
       "    </tr>\n",
       "    <tr>\n",
       "      <th>32</th>\n",
       "      <td>55.390603</td>\n",
       "      <td>0.008646</td>\n",
       "    </tr>\n",
       "    <tr>\n",
       "      <th>33</th>\n",
       "      <td>55.700686</td>\n",
       "      <td>0.010872</td>\n",
       "    </tr>\n",
       "    <tr>\n",
       "      <th>34</th>\n",
       "      <td>60.315624</td>\n",
       "      <td>0.004951</td>\n",
       "    </tr>\n",
       "    <tr>\n",
       "      <th>35</th>\n",
       "      <td>60.456058</td>\n",
       "      <td>0.006533</td>\n",
       "    </tr>\n",
       "    <tr>\n",
       "      <th>36</th>\n",
       "      <td>60.528442</td>\n",
       "      <td>0.008655</td>\n",
       "    </tr>\n",
       "    <tr>\n",
       "      <th>37</th>\n",
       "      <td>61.652318</td>\n",
       "      <td>0.008957</td>\n",
       "    </tr>\n",
       "    <tr>\n",
       "      <th>38</th>\n",
       "      <td>65.036779</td>\n",
       "      <td>0.005537</td>\n",
       "    </tr>\n",
       "    <tr>\n",
       "      <th>39</th>\n",
       "      <td>65.366677</td>\n",
       "      <td>0.006884</td>\n",
       "    </tr>\n",
       "  </tbody>\n",
       "</table>\n",
       "</div>"
      ],
      "text/plain": [
       "       Q-stat   p-value\n",
       "0    0.000025  0.996011\n",
       "1    0.011167  0.994432\n",
       "2    1.639607  0.650443\n",
       "3    3.115645  0.538662\n",
       "4    9.863116  0.079208\n",
       "5   18.758596  0.004591\n",
       "6   20.116158  0.005324\n",
       "7   20.169758  0.009713\n",
       "8   20.609582  0.014501\n",
       "9   20.683088  0.023415\n",
       "10  34.359196  0.000316\n",
       "11  34.947693  0.000477\n",
       "12  34.947764  0.000862\n",
       "13  39.191155  0.000341\n",
       "14  39.270196  0.000584\n",
       "15  41.697612  0.000438\n",
       "16  44.481869  0.000291\n",
       "17  45.409622  0.000362\n",
       "18  46.668806  0.000398\n",
       "19  46.831395  0.000619\n",
       "20  50.265777  0.000335\n",
       "21  51.018926  0.000426\n",
       "22  51.030491  0.000674\n",
       "23  51.150621  0.001008\n",
       "24  51.688767  0.001312\n",
       "25  51.712393  0.001952\n",
       "26  51.926779  0.002706\n",
       "27  52.286610  0.003554\n",
       "28  52.513017  0.004776\n",
       "29  52.948462  0.006008\n",
       "30  54.875281  0.005163\n",
       "31  55.350174  0.006371\n",
       "32  55.390603  0.008646\n",
       "33  55.700686  0.010872\n",
       "34  60.315624  0.004951\n",
       "35  60.456058  0.006533\n",
       "36  60.528442  0.008655\n",
       "37  61.652318  0.008957\n",
       "38  65.036779  0.005537\n",
       "39  65.366677  0.006884"
      ]
     },
     "execution_count": 235,
     "metadata": {},
     "output_type": "execute_result"
    }
   ],
   "source": [
    "q_test = st.tsa.stattools.acf(model.resid, qstat=True) #свойство resid, хранит остатки модели, qstat=True, означает что применяем указынный тест к коэф-ам\n",
    "pd.DataFrame({'Q-stat':q_test[1], 'p-value':q_test[2]})"
   ]
  },
  {
   "cell_type": "code",
   "execution_count": 236,
   "metadata": {},
   "outputs": [
    {
     "data": {
      "text/plain": [
       "287.75"
      ]
     },
     "execution_count": 236,
     "metadata": {},
     "output_type": "execute_result"
    }
   ],
   "source": [
    "gasp_data_model['2021-08-02']"
   ]
  },
  {
   "cell_type": "code",
   "execution_count": 237,
   "metadata": {},
   "outputs": [
    {
     "data": {
      "text/plain": [
       "TRADEDATE\n",
       "2021-08-02    287.75\n",
       "2021-08-03    286.27\n",
       "2021-08-04    287.71\n",
       "2021-08-05    287.03\n",
       "2021-08-06    281.54\n",
       "2021-08-09    285.58\n",
       "2021-08-10    287.68\n",
       "2021-08-11    289.51\n",
       "2021-08-12    292.77\n",
       "2021-08-13    292.90\n",
       "2021-08-16    294.05\n",
       "2021-08-17    297.34\n",
       "2021-08-18    297.97\n",
       "2021-08-19    291.79\n",
       "2021-08-20    291.99\n",
       "2021-08-23    296.56\n",
       "2021-08-24    298.54\n",
       "2021-08-25    296.53\n",
       "2021-08-26    294.48\n",
       "2021-08-27    297.28\n",
       "2021-08-30    303.21\n",
       "2021-08-31    305.82\n",
       "2021-09-01    309.96\n",
       "Name: WAPRICE, dtype: float64"
      ]
     },
     "execution_count": 237,
     "metadata": {},
     "output_type": "execute_result"
    }
   ],
   "source": [
    "trn"
   ]
  },
  {
   "cell_type": "code",
   "execution_count": 238,
   "metadata": {},
   "outputs": [
    {
     "name": "stdout",
     "output_type": "stream",
     "text": [
      "R^2: %1.2f -1916.8247883047738\n"
     ]
    }
   ],
   "source": [
    "pred = model.predict(start='2021-08-02')\n",
    "trn = gasp_data_model['2021-08-01':]\n",
    "r2 = r2_score(trn, pred)\n",
    "print(f'R^2: %1.2f {r2}')"
   ]
  },
  {
   "cell_type": "code",
   "execution_count": 239,
   "metadata": {},
   "outputs": [
    {
     "data": {
      "text/plain": [
       "TRADEDATE\n",
       "2021-08-02   -0.347339\n",
       "2021-08-03    0.765602\n",
       "2021-08-04   -0.302341\n",
       "2021-08-05    0.457055\n",
       "2021-08-06   -0.091898\n",
       "2021-08-09   -0.997267\n",
       "2021-08-10    1.094907\n",
       "2021-08-11    0.383378\n",
       "2021-08-12    0.434468\n",
       "2021-08-13    0.720416\n",
       "2021-08-16    0.034977\n",
       "2021-08-17    0.347014\n",
       "2021-08-18    0.739668\n",
       "2021-08-19    0.134752\n",
       "2021-08-20   -1.172865\n",
       "2021-08-23    0.332795\n",
       "2021-08-24    1.004597\n",
       "2021-08-25    0.372261\n",
       "2021-08-26   -0.352269\n",
       "2021-08-27   -0.252011\n",
       "2021-08-30    0.728746\n",
       "2021-08-31    1.224544\n",
       "2021-09-01    0.468679\n",
       "dtype: float64"
      ]
     },
     "execution_count": 239,
     "metadata": {},
     "output_type": "execute_result"
    }
   ],
   "source": [
    "pred"
   ]
  },
  {
   "cell_type": "code",
   "execution_count": 240,
   "metadata": {},
   "outputs": [
    {
     "data": {
      "text/plain": [
       "<AxesSubplot:xlabel='TRADEDATE'>"
      ]
     },
     "execution_count": 240,
     "metadata": {},
     "output_type": "execute_result"
    },
    {
     "data": {
      "image/png": "[encoded data removed]",
      "text/plain": [
       "<Figure size 864x432 with 1 Axes>"
      ]
     },
     "metadata": {
      "needs_background": "light"
     },
     "output_type": "display_data"
    }
   ],
   "source": [
    "gasp_data_model.plot(figsize=(12,6))\n",
    "pred.plot(style='r--')"
   ]
  },
  {
   "cell_type": "code",
   "execution_count": null,
   "metadata": {},
   "outputs": [],
   "source": []
  }
 ],
 "metadata": {
  "kernelspec": {
   "display_name": "Python 3",
   "language": "python",
   "name": "python3"
  },
  "language_info": {
   "codemirror_mode": {
    "name": "ipython",
    "version": 3
   },
   "file_extension": ".py",
   "mimetype": "text/x-python",
   "name": "python",
   "nbconvert_exporter": "python",
   "pygments_lexer": "ipython3",
   "version": "3.8.5"
  }
 },
 "nbformat": 4,
 "nbformat_minor": 4
}
